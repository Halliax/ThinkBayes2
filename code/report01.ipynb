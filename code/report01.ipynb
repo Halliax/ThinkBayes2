{
 "cells": [
  {
   "cell_type": "markdown",
   "metadata": {},
   "source": [
    "# Report 1\n",
    "## Taylor Sheneman"
   ]
  },
  {
   "cell_type": "code",
   "execution_count": 1,
   "metadata": {
    "collapsed": true
   },
   "outputs": [],
   "source": [
    "from __future__ import print_function, division\n",
    "\n",
    "% matplotlib inline\n",
    "\n",
    "from thinkbayes2 import Hist, Pmf, Suite"
   ]
  },
  {
   "cell_type": "markdown",
   "metadata": {},
   "source": [
    "## Problems from Probably Overthinking It"
   ]
  },
  {
   "cell_type": "markdown",
   "metadata": {},
   "source": [
    "### Cookie Problem"
   ]
  },
  {
   "cell_type": "code",
   "execution_count": 2,
   "metadata": {
    "collapsed": false
   },
   "outputs": [
    {
     "name": "stdout",
     "output_type": "stream",
     "text": [
      "Bowl 1 0.5\n",
      "Bowl 2 0.5\n"
     ]
    }
   ],
   "source": [
    "cookies = Pmf(['Bowl 1', 'Bowl 2'])\n",
    "cookies.Print()"
   ]
  },
  {
   "cell_type": "code",
   "execution_count": 3,
   "metadata": {
    "collapsed": false
   },
   "outputs": [
    {
     "name": "stdout",
     "output_type": "stream",
     "text": [
      "Bowl 1 0.6\n",
      "Bowl 2 0.4\n"
     ]
    }
   ],
   "source": [
    "cookies['Bowl 1'] *= .75\n",
    "cookies['Bowl 2'] *= .5\n",
    "cookies.Normalize()\n",
    "cookies.Print()"
   ]
  },
  {
   "cell_type": "markdown",
   "metadata": {},
   "source": [
    "### M&M Problem"
   ]
  },
  {
   "cell_type": "code",
   "execution_count": 4,
   "metadata": {
    "collapsed": false
   },
   "outputs": [
    {
     "name": "stdout",
     "output_type": "stream",
     "text": [
      "Bag 1 0.5\n",
      "Bag 2 0.5\n"
     ]
    }
   ],
   "source": [
    "bag1994 = dict(brown=30, yellow=20, red=20,\n",
    "             green=10, orange=10, tan=10, blue=0)\n",
    "\n",
    "bag1996 = dict(blue=24, green=20, orange=16,\n",
    "               yellow=14, red=13, brown=13, tan=0)\n",
    "\n",
    "\n",
    "suite = Suite(['Bag 1','Bag 2'])\n",
    "suite.Print()"
   ]
  },
  {
   "cell_type": "code",
   "execution_count": 5,
   "metadata": {
    "collapsed": false
   },
   "outputs": [
    {
     "name": "stdout",
     "output_type": "stream",
     "text": [
      "Bag 1 0.740740740741\n",
      "Bag 2 0.259259259259\n"
     ]
    }
   ],
   "source": [
    "suite['Bag 1'] *= bag1994['yellow']\n",
    "suite['Bag 2'] *= bag1996['yellow']\n",
    "suite.Normalize()\n",
    "suite['Bag 1'] *= bag1996['green']\n",
    "suite['Bag 2'] *= bag1994['green']\n",
    "suite.Normalize()\n",
    "suite.Print()"
   ]
  },
  {
   "cell_type": "markdown",
   "metadata": {},
   "source": [
    "### Elvis Problem"
   ]
  },
  {
   "cell_type": "code",
   "execution_count": 6,
   "metadata": {
    "collapsed": false
   },
   "outputs": [
    {
     "name": "stdout",
     "output_type": "stream",
     "text": [
      "fraternal 0.851851851852\n",
      "identical 0.148148148148\n"
     ]
    }
   ],
   "source": [
    "pmf = Pmf(dict(identical=0.08, fraternal=0.92))\n",
    "pmf['identical'] *= 1\n",
    "pmf['fraternal'] *= 0.5\n",
    "pmf.Normalize()\n",
    "pmf.Print()"
   ]
  },
  {
   "cell_type": "markdown",
   "metadata": {},
   "source": [
    "### Crime Scene Blood\n",
    "\n",
    "The priors here are indeterminate, I suppose it's the difference between the priors and posteriors that's the question"
   ]
  },
  {
   "cell_type": "code",
   "execution_count": 7,
   "metadata": {
    "collapsed": false
   },
   "outputs": [
    {
     "name": "stdout",
     "output_type": "stream",
     "text": [
      "absent 0.84375\n",
      "present 0.15625\n"
     ]
    }
   ],
   "source": [
    "pmf = Pmf(dict(present = 0.1, absent=0.9))\n",
    "pmf['present'] *= 1\n",
    "pmf['absent'] *= 0.6\n",
    "pmf.Normalize()\n",
    "pmf.Print()"
   ]
  },
  {
   "cell_type": "markdown",
   "metadata": {},
   "source": [
    "Evidence yes, strong evidence no. Assuming I did that right.\n"
   ]
  },
  {
   "cell_type": "markdown",
   "metadata": {},
   "source": [
    "### Smoker Problem\n",
    "\n",
    "The missing information here is the priors: 14.8% of women in the US are smokers."
   ]
  },
  {
   "cell_type": "code",
   "execution_count": 8,
   "metadata": {
    "collapsed": false
   },
   "outputs": [
    {
     "name": "stdout",
     "output_type": "stream",
     "text": [
      "nonsmoker 0.306916426513\n",
      "smoker 0.693083573487\n"
     ]
    }
   ],
   "source": [
    "pmf = Pmf(dict(smoker=14.8, nonsmoker=85.2))\n",
    "pmf['smoker'] *= 13\n",
    "pmf['nonsmoker'] *= 1\n",
    "pmf.Normalize()\n",
    "pmf.Print()"
   ]
  },
  {
   "cell_type": "markdown",
   "metadata": {},
   "source": [
    "### Monty Hall"
   ]
  },
  {
   "cell_type": "code",
   "execution_count": 9,
   "metadata": {
    "collapsed": true
   },
   "outputs": [],
   "source": [
    "class MontyHall(Suite):\n",
    "\n",
    "    def Likelihood(self, data, hypo):\n",
    "        \"\"\" x is the probability that Monty chooses door B, given that\n",
    "        door A (the original choice) is the correct one. In the\n",
    "        classical problem this is uniformly random, at 50% door B\"\"\"\n",
    "        x = 0.5\n",
    "        if hypo == data:\n",
    "            return 0\n",
    "        elif hypo == 'A':\n",
    "            return x\n",
    "        else:\n",
    "            return 1"
   ]
  },
  {
   "cell_type": "code",
   "execution_count": 10,
   "metadata": {
    "collapsed": false
   },
   "outputs": [
    {
     "name": "stdout",
     "output_type": "stream",
     "text": [
      "A 0.333333333333\n",
      "B 0.0\n",
      "C 0.666666666667\n"
     ]
    }
   ],
   "source": [
    "pmf = MontyHall('ABC')\n",
    "pmf.Update('B')\n",
    "pmf.Print()"
   ]
  },
  {
   "cell_type": "markdown",
   "metadata": {},
   "source": [
    "## Another Bayes Problem (that I made up)\n",
    "\n",
    "### Geographical Terrorism"
   ]
  },
  {
   "cell_type": "markdown",
   "metadata": {
    "collapsed": true
   },
   "source": [
    "In 2013, 82% of the 17,958 deaths due to terrorist attacks occured in five countries: Iraq, Afghanistan, Pakistan, Nigeria and Syria. Iraq is the worst affected, with 35.4% of the total terrorism-related fatalities.\n",
    "\n",
    "A person dies in Iraq. How likely is it that they've died to a terrorist attack?"
   ]
  },
  {
   "cell_type": "markdown",
   "metadata": {},
   "source": [
    "The missing information here: proportion of terrorism deaths to total deaths, proportion of non-terrorism deaths that occur in Iraq.\n",
    "\n",
    "As it turns out, the death rate in 2013 was roughly 7.9 deaths/1000 people, with ~7 billion total world population and 33.42 million people in Iraq. This works out to about 55,300,000 total deaths in 2013, and about 264,000 deaths in Iraq. I'm assuming that worldwide average rate can reasonably represent deaths from non-terrorism causes in Iraq."
   ]
  },
  {
   "cell_type": "code",
   "execution_count": 15,
   "metadata": {
    "collapsed": false
   },
   "outputs": [
    {
     "name": "stdout",
     "output_type": "stream",
     "text": [
      "n_death 0.978347564407\n",
      "t_death 0.0216524355932\n"
     ]
    }
   ],
   "source": [
    "pmf = Pmf(dict(t_death=0.0003,n_death=0.9997))\n",
    "pmf['t_death'] *= 35.4\n",
    "pmf['n_death'] *= 0.48\n",
    "pmf.Normalize()\n",
    "pmf.Print()"
   ]
  },
  {
   "cell_type": "markdown",
   "metadata": {},
   "source": [
    "This kind of worked out into a problem that could be solved fairly simply without Bayes, just by virtue of being able to figure out the total terrorism deaths and total deaths in Iraq alone. I feel like there's potential for an interesting problem here though, just maybe by reworking the question? Still interesting, and the percentages approximately work out to the proportion of (Iraqi terrorism deaths)/(total Iraqi deaths)."
   ]
  }
 ],
 "metadata": {
  "kernelspec": {
   "display_name": "Python 2",
   "language": "python",
   "name": "python2"
  },
  "language_info": {
   "codemirror_mode": {
    "name": "ipython",
    "version": 2
   },
   "file_extension": ".py",
   "mimetype": "text/x-python",
   "name": "python",
   "nbconvert_exporter": "python",
   "pygments_lexer": "ipython2",
   "version": "2.7.6"
  }
 },
 "nbformat": 4,
 "nbformat_minor": 0
}
