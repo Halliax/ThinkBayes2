{
 "cells": [
  {
   "cell_type": "markdown",
   "metadata": {},
   "source": [
    "# Report 1\n",
    "## Taylor Sheneman"
   ]
  },
  {
   "cell_type": "code",
   "execution_count": 1,
   "metadata": {
    "collapsed": true
   },
   "outputs": [],
   "source": [
    "from __future__ import print_function, division\n",
    "\n",
    "% matplotlib inline\n",
    "\n",
    "from thinkbayes2 import Hist, Pmf, Suite"
   ]
  },
  {
   "cell_type": "markdown",
   "metadata": {},
   "source": [
    "## Problems from Probably Overthinking It\n",
    "\n",
    "Worked problems taken from Allen Downey's blog [Probably Overthinking It](http://allendowney.blogspot.com/2011/10/my-favorite-bayess-theorem-problems.html)."
   ]
  },
  {
   "cell_type": "markdown",
   "metadata": {},
   "source": [
    "### Cookie Problem\n",
    "\n",
    "*Suppose there are two full bowls of cookies. Bowl #1 has 10 chocolate chip and 30 plain cookies, while bowl #2 has 20 of each. Our friend Fred picks a bowl at random, and then picks a cookie at random. We may assume there is no reason to believe Fred treats one bowl differently from another, likewise for the cookies. The cookie turns out to be a plain one. How probable is it that Fred picked it out of Bowl #1?*"
   ]
  },
  {
   "cell_type": "code",
   "execution_count": 2,
   "metadata": {
    "collapsed": false
   },
   "outputs": [
    {
     "name": "stdout",
     "output_type": "stream",
     "text": [
      "Bowl 1 0.5\n",
      "Bowl 2 0.5\n"
     ]
    }
   ],
   "source": [
    "cookies = Pmf(['Bowl 1', 'Bowl 2'])\n",
    "cookies.Print()"
   ]
  },
  {
   "cell_type": "code",
   "execution_count": 3,
   "metadata": {
    "collapsed": false
   },
   "outputs": [
    {
     "name": "stdout",
     "output_type": "stream",
     "text": [
      "Bowl 1 0.6\n",
      "Bowl 2 0.4\n"
     ]
    }
   ],
   "source": [
    "cookies['Bowl 1'] *= .75\n",
    "cookies['Bowl 2'] *= .5\n",
    "cookies.Normalize()\n",
    "cookies.Print()"
   ]
  },
  {
   "cell_type": "markdown",
   "metadata": {},
   "source": [
    "### M&M Problem\n",
    "\n",
    "*The blue M&M was introduced in 1995.  Before then, the color mix in a bag of plain M&Ms was (30% Brown, 20% Yellow, 20% Red, 10% Green, 10% Orange, 10% Tan).  Afterward it was (24% Blue , 20% Green, 16% Orange, 14% Yellow, 13% Red, 13% Brown).*\n",
    "\n",
    "*A friend of mine has two bags of M&Ms, and he tells me that one is from 1994 and one from 1996.  He won't tell me which is which, but he gives me one M&M from each bag.  One is yellow and one is green.  What is the probability that the yellow M&M came from the 1994 bag?*"
   ]
  },
  {
   "cell_type": "code",
   "execution_count": 4,
   "metadata": {
    "collapsed": false
   },
   "outputs": [
    {
     "name": "stdout",
     "output_type": "stream",
     "text": [
      "Bag 1 0.5\n",
      "Bag 2 0.5\n"
     ]
    }
   ],
   "source": [
    "bag1994 = dict(brown=30, yellow=20, red=20,\n",
    "             green=10, orange=10, tan=10, blue=0)\n",
    "\n",
    "bag1996 = dict(blue=24, green=20, orange=16,\n",
    "               yellow=14, red=13, brown=13, tan=0)\n",
    "\n",
    "\n",
    "suite = Suite(['Bag 1','Bag 2'])\n",
    "suite.Print()"
   ]
  },
  {
   "cell_type": "code",
   "execution_count": 5,
   "metadata": {
    "collapsed": false
   },
   "outputs": [
    {
     "name": "stdout",
     "output_type": "stream",
     "text": [
      "Bag 1 0.740740740741\n",
      "Bag 2 0.259259259259\n"
     ]
    }
   ],
   "source": [
    "suite['Bag 1'] *= bag1994['yellow']\n",
    "suite['Bag 2'] *= bag1996['yellow']\n",
    "suite.Normalize()\n",
    "suite['Bag 1'] *= bag1996['green']\n",
    "suite['Bag 2'] *= bag1994['green']\n",
    "suite.Normalize()\n",
    "suite.Print()"
   ]
  },
  {
   "cell_type": "markdown",
   "metadata": {},
   "source": [
    "### Elvis Problem\n",
    "\n",
    "(Taken from David McKay's \"Information Theory, Inference, and Learning Algorithms\")\n",
    "\n",
    "*Elvis Presley had a twin brother who died at birth.  What is the probability that Elvis was an identical twin?*"
   ]
  },
  {
   "cell_type": "code",
   "execution_count": 6,
   "metadata": {
    "collapsed": false
   },
   "outputs": [
    {
     "name": "stdout",
     "output_type": "stream",
     "text": [
      "fraternal 0.851851851852\n",
      "identical 0.148148148148\n"
     ]
    }
   ],
   "source": [
    "pmf = Pmf(dict(identical=0.08, fraternal=0.92))\n",
    "pmf['identical'] *= 1\n",
    "pmf['fraternal'] *= 0.5\n",
    "pmf.Normalize()\n",
    "pmf.Print()"
   ]
  },
  {
   "cell_type": "markdown",
   "metadata": {},
   "source": [
    "### Crime Scene Blood\n",
    "\n",
    "(Also from \"Information Theory, Inference, and Learning Algorithms\")\n",
    "\n",
    "*Two people have left traces of their own blood at the scene of a crime.  A suspect, Oliver, is tested and found to have type O blood.  The blood groups of the two traces are found to be of type O (a common type in the local population, having frequency 60%) and of type AB (a rare type, with frequency 1%).  Do these data (the blood types found at the scene) give evidence in favour [sic] of the proposition that Oliver was one of the two people whose blood was found at the scene?*"
   ]
  },
  {
   "cell_type": "markdown",
   "metadata": {},
   "source": [
    "The priors here are indeterminate (is the probability that Oliver was at the scene 1/(the population of the world)? Or is there reason to believe he may have been there already?). The difference between the priors and posteriors is what determines whether the information is \"evidence\"."
   ]
  },
  {
   "cell_type": "code",
   "execution_count": 7,
   "metadata": {
    "collapsed": false
   },
   "outputs": [
    {
     "name": "stdout",
     "output_type": "stream",
     "text": [
      "absent 0.84375\n",
      "present 0.15625\n"
     ]
    }
   ],
   "source": [
    "pmf = Pmf(dict(present = 0.1, absent=0.9))\n",
    "pmf['present'] *= 1\n",
    "pmf['absent'] *= 0.6\n",
    "pmf.Normalize()\n",
    "pmf.Print()"
   ]
  },
  {
   "cell_type": "markdown",
   "metadata": {},
   "source": [
    "Evidence yes, strong evidence no. Assuming I did that right.\n"
   ]
  },
  {
   "cell_type": "markdown",
   "metadata": {},
   "source": [
    "### Smoker Problem\n",
    "\n",
    "*According to the CDC, \"Compared to nonsmokers, men who smoke are about 23 times more likely to develop lung cancer and women who smoke are about 13 times more likely.\"*\n",
    "\n",
    "*If you learn that a woman has been diagnosed with lung cancer, and you know nothing else about her, what is the probability that she is a smoker?*"
   ]
  },
  {
   "cell_type": "markdown",
   "metadata": {},
   "source": [
    "The missing information here is the priors: 14.8% of women in the US are smokers."
   ]
  },
  {
   "cell_type": "code",
   "execution_count": 8,
   "metadata": {
    "collapsed": false
   },
   "outputs": [
    {
     "name": "stdout",
     "output_type": "stream",
     "text": [
      "nonsmoker 0.306916426513\n",
      "smoker 0.693083573487\n"
     ]
    }
   ],
   "source": [
    "pmf = Pmf(dict(smoker=14.8, nonsmoker=85.2))\n",
    "pmf['smoker'] *= 13\n",
    "pmf['nonsmoker'] *= 1\n",
    "pmf.Normalize()\n",
    "pmf.Print()"
   ]
  },
  {
   "cell_type": "markdown",
   "metadata": {},
   "source": [
    "### Monty Hall\n",
    "\n",
    "*Suppose you're on a game show, and you're given the choice of three doors: Behind one door is a car; behind the others, goats. You pick a door, say Door A [but the door is not opened], and the host, who knows what's behind the doors, opens another door, say Door B, which has a goat. He then says to you, \"Do you want to pick Door C?\" Is it to your advantage to switch your choice?*"
   ]
  },
  {
   "cell_type": "code",
   "execution_count": 9,
   "metadata": {
    "collapsed": true
   },
   "outputs": [],
   "source": [
    "class MontyHall(Suite):\n",
    "\n",
    "    def Likelihood(self, data, hypo):\n",
    "        \"\"\" x is the probability that Monty chooses door B, given that\n",
    "        door A (the original choice) is the correct one. In the\n",
    "        classical problem this is uniformly random, at 50% door B\"\"\"\n",
    "        x = 0.5\n",
    "        if hypo == data:\n",
    "            return 0\n",
    "        elif hypo == 'A':\n",
    "            return x\n",
    "        else:\n",
    "            return 1"
   ]
  },
  {
   "cell_type": "code",
   "execution_count": 10,
   "metadata": {
    "collapsed": false
   },
   "outputs": [
    {
     "name": "stdout",
     "output_type": "stream",
     "text": [
      "A 0.333333333333\n",
      "B 0.0\n",
      "C 0.666666666667\n"
     ]
    }
   ],
   "source": [
    "pmf = MontyHall('ABC')\n",
    "pmf.Update('B')\n",
    "pmf.Print()"
   ]
  },
  {
   "cell_type": "markdown",
   "metadata": {},
   "source": [
    "## Another Bayes Problem (that I made up)\n",
    "\n",
    "### Geographical Terrorism"
   ]
  },
  {
   "cell_type": "markdown",
   "metadata": {
    "collapsed": true
   },
   "source": [
    "In 2013, 82% of the 17,958 deaths due to terrorist attacks occured in five countries: Iraq, Afghanistan, Pakistan, Nigeria and Syria. Iraq is the worst affected, with 35.4% of the total terrorism-related fatalities.\n",
    "\n",
    "A person dies in Iraq. How likely is it that they've died to a terrorist attack?"
   ]
  },
  {
   "cell_type": "markdown",
   "metadata": {},
   "source": [
    "The missing information here: proportion of terrorism deaths to total deaths, proportion of non-terrorism deaths that occur in Iraq.\n",
    "\n",
    "As it turns out, the death rate in 2013 was roughly 7.9 deaths/1000 people, with ~7 billion total world population and 33.42 million people in Iraq. This works out to about 55,300,000 total deaths in 2013, and about 264,000 deaths in Iraq. I'm assuming that worldwide average rate can reasonably represent deaths from non-terrorism causes in Iraq."
   ]
  },
  {
   "cell_type": "code",
   "execution_count": 15,
   "metadata": {
    "collapsed": false
   },
   "outputs": [
    {
     "name": "stdout",
     "output_type": "stream",
     "text": [
      "n_death 0.978347564407\n",
      "t_death 0.0216524355932\n"
     ]
    }
   ],
   "source": [
    "pmf = Pmf(dict(t_death=0.0003,n_death=0.9997))\n",
    "pmf['t_death'] *= 35.4\n",
    "pmf['n_death'] *= 0.48\n",
    "pmf.Normalize()\n",
    "pmf.Print()"
   ]
  },
  {
   "cell_type": "markdown",
   "metadata": {},
   "source": [
    "This kind of worked out into a problem that could be solved fairly simply without Bayes, just by virtue of being able to figure out the total terrorism deaths and total deaths in Iraq alone. I feel like there's potential for an interesting problem here though, just maybe by reworking the question? Still interesting, and the percentages approximately work out to the proportion of (Iraqi terrorism deaths)/(total Iraqi deaths)."
   ]
  }
 ],
 "metadata": {
  "kernelspec": {
   "display_name": "Python 2",
   "language": "python",
   "name": "python2"
  },
  "language_info": {
   "codemirror_mode": {
    "name": "ipython",
    "version": 2
   },
   "file_extension": ".py",
   "mimetype": "text/x-python",
   "name": "python",
   "nbconvert_exporter": "python",
   "pygments_lexer": "ipython2",
   "version": "2.7.6"
  }
 },
 "nbformat": 4,
 "nbformat_minor": 0
}
