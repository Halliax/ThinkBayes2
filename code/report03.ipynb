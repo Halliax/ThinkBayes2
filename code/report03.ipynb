{
 "cells": [
  {
   "cell_type": "markdown",
   "metadata": {},
   "source": [
    "# Report 3: Computational Bayesian Statistics\n",
    "## Taylor Sheneman"
   ]
  },
  {
   "cell_type": "code",
   "execution_count": 114,
   "metadata": {
    "collapsed": false
   },
   "outputs": [],
   "source": [
    "from __future__ import print_function, division\n",
    "\n",
    "import numpy as np\n",
    "import random\n",
    "\n",
    "import thinkbayes2\n",
    "from thinkbayes2 import Pmf, Cdf, Suite, Joint, MakeBinomialPmf, Beta, MakeMixture\n",
    "import thinkplot\n",
    "\n",
    "import scipy.stats as stats\n",
    "\n",
    "from itertools import product\n",
    "from operator import truediv\n",
    "\n",
    "% matplotlib inline"
   ]
  },
  {
   "cell_type": "markdown",
   "metadata": {},
   "source": [
    "## Problems from Think Bayes Chapter 9 Notes\n",
    "\n",
    "Worked problems from Allen Downey's Think Bayes supplementary materials."
   ]
  },
  {
   "cell_type": "markdown",
   "metadata": {},
   "source": [
    "### Lincoln Index Problem\n",
    "\n",
    "\"Suppose you have a tester who finds 20 bugs in your program. You want to estimate how many bugs are really in the program. You know there are at least 20 bugs, and if you have supreme confidence in your tester, you may suppose there are around 20 bugs. But maybe your tester isn't very good. Maybe there are hundreds of bugs. How can you have any idea how many bugs there are? There’s no way to know with one tester. But if you have two testers, you can get a good idea, even if you don’t know how skilled the testers are.\n",
    "\n",
    "\"Suppose two testers independently search for bugs. Let k1 be the number of errors the first tester finds and k2 the number of errors the second tester finds. Let c be the number of errors both testers find. The Lincoln Index estimates the total number of errors as k1 k2 / c [I changed his notation to be consistent with mine].\"\n",
    "\n",
    "So if the first tester finds 20 bugs, the second finds 15, and they find 3 in common, we estimate that there are about 100 bugs. What is the Bayesian estimate of the number of errors based on this data?"
   ]
  },
  {
   "cell_type": "markdown",
   "metadata": {},
   "source": [
    "p1 = P(tester #1 finds a given bug)\n",
    "\n",
    "p2 = P(tester #2 finds a given bug)\n",
    "\n",
    "n = number of bugs\n",
    "\n",
    "\n",
    "k1 = # bugs found by tester #1\n",
    "\n",
    "k2 = # bugs found by tester #2\n",
    "\n",
    "c = # bugs found by both"
   ]
  },
  {
   "cell_type": "code",
   "execution_count": 2,
   "metadata": {
    "collapsed": false
   },
   "outputs": [
    {
     "name": "stdout",
     "output_type": "stream",
     "text": [
      "16\n",
      "13\n",
      "1\n"
     ]
    }
   ],
   "source": [
    "p1 = 0.2\n",
    "p2 = 0.1\n",
    "n = 100\n",
    "\n",
    "p1_trials = np.random.random(n) < p1\n",
    "p2_trials = np.random.random(n) < p2\n",
    "\n",
    "k1 = np.sum(p1_trials)\n",
    "k2 = np.sum(p2_trials)\n",
    "c = np.sum(p1_trials & p2_trials)\n",
    "\n",
    "print(k1)\n",
    "print(k2)\n",
    "print(c)"
   ]
  },
  {
   "cell_type": "markdown",
   "metadata": {},
   "source": [
    "The simulation produces about the output one would expect, given the trial conditions."
   ]
  },
  {
   "cell_type": "code",
   "execution_count": 3,
   "metadata": {
    "collapsed": false
   },
   "outputs": [],
   "source": [
    "class LincolnIndex(Suite, Joint):\n",
    "    \n",
    "    def __init__(self,p1s,p2s,ns):\n",
    "        \"\"\"Makes a joint suite of parameters p1, p2, and n\n",
    "\n",
    "        Enumerates all combinations of p1, p2, n\n",
    "\n",
    "        p1s: possible probabilities that tester #1 finds a bug\n",
    "        p2s: possible probabilities that tester #1 finds a bug\n",
    "        ns: possible numbers of bugs\"\"\"\n",
    "        \n",
    "        combinations = product(p1s,p2s,ns)\n",
    "        Suite.__init__(self, combinations)\n",
    "    \n",
    "    def Likelihood(self, data, hypos):\n",
    "        \"\"\"computes likelihood of data (k1, k2, c) given \n",
    "        hypo (p1, p2, n)\"\"\"\n",
    "        k1, k2, c = data\n",
    "        p1, p2, n = hypos\n",
    "        \n",
    "        like1 = stats.binom.pmf(k1, n, p1)\n",
    "        like2 = stats.binom.pmf(k2, n, p2)\n",
    "        like_both = stats.binom.pmf(c, n, p1*p2)\n",
    "        \n",
    "        return like1*like2*like_both\n",
    "    "
   ]
  },
  {
   "cell_type": "code",
   "execution_count": 4,
   "metadata": {
    "collapsed": false
   },
   "outputs": [
    {
     "data": {
      "image/png": "[encoded data removed]",
      "text/plain": [
       "<matplotlib.figure.Figure at 0x7f32b3291550>"
      ]
     },
     "metadata": {},
     "output_type": "display_data"
    }
   ],
   "source": [
    "p1 = Beta(1,1)\n",
    "p2 = Beta(1,1)\n",
    "n = Pmf(range(350))\n",
    "\n",
    "suite = LincolnIndex(p1.MakePmf(21),p1.MakePmf(21),n)\n",
    "suite.Update((20,15,3))\n",
    "thinkplot.Pdf(suite.Marginal(0))\n",
    "thinkplot.Pdf(suite.Marginal(1))"
   ]
  },
  {
   "cell_type": "code",
   "execution_count": 5,
   "metadata": {
    "collapsed": false
   },
   "outputs": [
    {
     "name": "stdout",
     "output_type": "stream",
     "text": [
      "Mean of p1: 0.27013203389\n",
      "MAP of p1: 0.2\n",
      "Mean of p2: 0.199301060402\n",
      "MAP of p2: 0.15\n"
     ]
    }
   ],
   "source": [
    "print(\"Mean of p1:\",suite.Marginal(0).Mean())\n",
    "print(\"MAP of p1:\",suite.Marginal(0).MAP())\n",
    "print(\"Mean of p2:\",suite.Marginal(1).Mean())\n",
    "print(\"MAP of p2:\",suite.Marginal(1).MAP())"
   ]
  },
  {
   "cell_type": "markdown",
   "metadata": {},
   "source": [
    "The probable sensitivity of the testers to the presence of bugs falls within the ranges above. The mean probabilities that they will catch a given bug are 0.27 and 0.20, respectively."
   ]
  },
  {
   "cell_type": "code",
   "execution_count": 6,
   "metadata": {
    "collapsed": false
   },
   "outputs": [
    {
     "data": {
      "image/png": "[encoded data removed]",
      "text/plain": [
       "<matplotlib.figure.Figure at 0x7f327f1db790>"
      ]
     },
     "metadata": {},
     "output_type": "display_data"
    }
   ],
   "source": [
    "thinkplot.Pdf(suite.Marginal(2))"
   ]
  },
  {
   "cell_type": "code",
   "execution_count": 7,
   "metadata": {
    "collapsed": false
   },
   "outputs": [
    {
     "name": "stdout",
     "output_type": "stream",
     "text": [
      "Mean of n: 95.3343021466\n",
      "MAP of n: 55\n"
     ]
    }
   ],
   "source": [
    "print(\"Mean of n:\",suite.Marginal(2).Mean())\n",
    "print(\"MAP of n:\",suite.Marginal(2).MAP())"
   ]
  },
  {
   "cell_type": "markdown",
   "metadata": {},
   "source": [
    "The model suggests that the mean probable number of bugs is around 95, while the maximum probability for a single value of n falls around 55. This isn't totally consistent with the Lincoln Index rule of thumb, which (due to my lack of confidence in my model) leads to me further doubting the likelihood function, rather than the usefulness of the LI.\n",
    "\n",
    "*I've spent an unfortunately long time on this problem. I strongly suspect that I did not come up with the correct likelihood function, but I really need to move on at this point.*"
   ]
  },
  {
   "cell_type": "markdown",
   "metadata": {},
   "source": [
    "### Rain in Seattle\n",
    "\n",
    "You're about to get on a plane to Seattle. You want to know if you should bring an umbrella. You call 3 random friends of yours who live there and ask each independently if it's raining. Each of your friends has a 2/3 chance of telling you the truth and a 1/3 chance of messing with you by lying. All 3 friends tell you that \"Yes\" it is raining. What is the probability that it's actually raining in Seattle?"
   ]
  },
  {
   "cell_type": "code",
   "execution_count": 26,
   "metadata": {
    "collapsed": false
   },
   "outputs": [],
   "source": [
    "rainHoursMonthly = [137,107,104,74,48,37,21,25,40,71,124,134]\n",
    "hoursMonthly = [x*24 for x in [31,28,31,30,31,30,31,31,30,31,30,31]]\n",
    "percRainMonthly = map(truediv,rainHoursMonthly,hoursMonthly)\n",
    "percRainMonthly = np.array(percRainMonthly)\n",
    "avRain = np.average(percRainMonthly,weights=hoursMonthly)\n",
    "stdRain = percRainMonthly.std()"
   ]
  },
  {
   "cell_type": "code",
   "execution_count": 30,
   "metadata": {
    "collapsed": true
   },
   "outputs": [],
   "source": [
    "def MakeGaussianPmf(mu, sigma, num_sigmas, n=101):\n",
    "    \"\"\"This is taken from the book, I'd like a Gaussian prior\"\"\"\n",
    "    \n",
    "    pmf = Pmf()\n",
    "    low = mu - num_sigmas*sigma\n",
    "    high = mu + num_sigmas*sigma\n",
    "    \n",
    "    for x in np.linspace(low, high, n):\n",
    "        p = stats.norm.pdf(x, mu, sigma)\n",
    "        pmf.Set(x, p)\n",
    "    pmf.Normalize()\n",
    "    return pmf"
   ]
  },
  {
   "cell_type": "code",
   "execution_count": 60,
   "metadata": {
    "collapsed": false
   },
   "outputs": [
    {
     "data": {
      "image/png": "[encoded data removed]",
      "text/plain": [
       "<matplotlib.figure.Figure at 0x7f3281522d90>"
      ]
     },
     "metadata": {},
     "output_type": "display_data"
    }
   ],
   "source": [
    "rainPrior = MakeGaussianPmf(avRain, stdRain, 5)\n",
    "for key in rainPrior:\n",
    "    if float(key) < 0:\n",
    "        rainPrior[key] = 0\n",
    "rainPrior.Normalize()\n",
    "thinkplot.Pdf(rainPrior)"
   ]
  },
  {
   "cell_type": "code",
   "execution_count": 109,
   "metadata": {
    "collapsed": false
   },
   "outputs": [],
   "source": [
    "class Rain(Suite):\n",
    "    \n",
    "    def Likelihood(self,data,hypo):\n",
    "        \"\"\"Computes probability of data given hypo\n",
    "        \n",
    "        data = 'yes' or 'no' to \"is it raining?\"\n",
    "        hypo = whether it's raining or not\n",
    "        \"\"\"\n",
    "        if hypo == 'raining':\n",
    "            if data == 'yes':\n",
    "                like = 0.66\n",
    "            else:\n",
    "                like = 0.33\n",
    "        else:\n",
    "            if data == 'yes':\n",
    "                like = 0.33\n",
    "            else:\n",
    "                like = 0.66\n",
    "        \n",
    "        return like"
   ]
  },
  {
   "cell_type": "code",
   "execution_count": 110,
   "metadata": {
    "collapsed": false
   },
   "outputs": [
    {
     "name": "stdout",
     "output_type": "stream",
     "text": [
      "Rain({'raining': 0.48481661627448408, 'notRaining': 0.51518338372551586})\n"
     ]
    }
   ],
   "source": [
    "suite = Rain(dict([('raining',avRain),('notRaining',1-avRain)]))\n",
    "suite.Update('yes')\n",
    "suite.Update('yes')\n",
    "suite.Update('yes')\n",
    "print(suite)"
   ]
  },
  {
   "cell_type": "markdown",
   "metadata": {},
   "source": [
    "I made this way harder than it needed to be, trying to make the hypotheses a distribution of probabilities of rain, with a Gaussian prior. That's really not the right option here though. With a simple two-part hypothesis, the final result is around a 52% chance that it's actually raining."
   ]
  },
  {
   "cell_type": "markdown",
   "metadata": {},
   "source": [
    "### Alien Blaster Problem\n",
    "\n",
    "(Though we did this in class, I am reproducing the section on metapmfs and mixtures here, plus my explanations, for my benefit)\n",
    "\n",
    "Suppose we\n",
    "have we have a stockpile of 3 Alien Blaster 9000s and 7 Alien\n",
    "Blaster 10Ks.  After extensive testing, we have concluded that\n",
    "the AB9000 hits the target 40% of the time, precisely, and the\n",
    "AB10K hits the target 50% of the time.\n",
    "\n",
    "If I grab a random weapon from the stockpile and shoot at 10 targets,\n",
    "what is the probability of hitting exactly 3?  Again, you can write a\n",
    "number, mathematical expression, or Python code."
   ]
  },
  {
   "cell_type": "code",
   "execution_count": 122,
   "metadata": {
    "collapsed": true
   },
   "outputs": [],
   "source": [
    "n = 10\n",
    "x1 = 0.4\n",
    "x2 = 0.5"
   ]
  },
  {
   "cell_type": "code",
   "execution_count": 123,
   "metadata": {
    "collapsed": false
   },
   "outputs": [
    {
     "name": "stdout",
     "output_type": "stream",
     "text": [
      "Pmf({0: 0.0009765625, 1: 0.0097656250000000104, 2: 0.043945312499999993, 3: 0.11718750000000014, 4: 0.20507812500000022, 5: 0.24609375000000025, 6: 0.20507812500000022, 7: 0.11718750000000014, 8: 0.043945312499999993, 9: 0.0097656250000000104, 10: 0.0009765625}) 0.7\n",
      "Pmf({0: 0.0060466176, 1: 0.040310784000000037, 2: 0.12093235199999994, 3: 0.21499084800000012, 4: 0.2508226560000002, 5: 0.20065812480000034, 6: 0.11147673600000013, 7: 0.04246732800000004, 8: 0.010616832, 9: 0.0015728640000000028, 10: 0.00010485760000000014}) 0.3\n"
     ]
    }
   ],
   "source": [
    "pmf1 = MakeBinomialPmf(n, x1)\n",
    "pmf2 = MakeBinomialPmf(n, x2)\n",
    "\n",
    "metapmf = Pmf({pmf1:0.3, pmf2:0.7})\n",
    "metapmf.Print()"
   ]
  },
  {
   "cell_type": "markdown",
   "metadata": {},
   "source": [
    "The metaPmf is a pmf of pmfs, with associated weights. The chance that you will select an Alien Blaster 9000 is the chance that you will end up in the first binomial distribution, and the probability that you select the other is the chance that you will end up in the second distribution, much like an expanded probability tree. The probability of hitting any given branch of the meta-pmf is the probability of the branch within the distribution, multiplied by the original weight."
   ]
  },
  {
   "cell_type": "code",
   "execution_count": 141,
   "metadata": {
    "collapsed": false
   },
   "outputs": [
    {
     "name": "stdout",
     "output_type": "stream",
     "text": [
      "4.7\n",
      "P(hitting exactly 3): 0.1465285044\n"
     ]
    },
    {
     "data": {
      "image/png": "[encoded data removed]",
      "text/plain": [
       "<matplotlib.figure.Figure at 0x7f3280923510>"
      ]
     },
     "metadata": {},
     "output_type": "display_data"
    }
   ],
   "source": [
    "mix = MakeMixture(metapmf)\n",
    "thinkplot.Hist(mix)\n",
    "print(mix.Mean())\n",
    "print('P(hitting exactly 3):',mix[3])"
   ]
  },
  {
   "cell_type": "markdown",
   "metadata": {},
   "source": [
    "Assuming again that the distribution of `x` in the population of designs is well-modeled by a beta distribution with parameters α=2 and β=3, what the distribution if `k` if I choose a random Alien Blaster and fire 10 shots?"
   ]
  },
  {
   "cell_type": "code",
   "execution_count": 142,
   "metadata": {
    "collapsed": true
   },
   "outputs": [],
   "source": [
    "beta = Beta(2,3).MakePmf()"
   ]
  },
  {
   "cell_type": "code",
   "execution_count": 144,
   "metadata": {
    "collapsed": true
   },
   "outputs": [],
   "source": [
    "metapmf = Pmf()\n",
    "for x, prob in beta.Items():\n",
    "    # binomial distribution for a given blaster\n",
    "    nested_pmf = MakeBinomialPmf(n,x)\n",
    "    # assigns weight of the distribution to the p in the outer beta\n",
    "    metapmf[nested_pmf] = prob"
   ]
  },
  {
   "cell_type": "code",
   "execution_count": 146,
   "metadata": {
    "collapsed": false
   },
   "outputs": [
    {
     "name": "stdout",
     "output_type": "stream",
     "text": [
      "P(hitting exactly 3): 0.143870530961\n"
     ]
    },
    {
     "data": {
      "image/png": "[encoded data removed]",
      "text/plain": [
       "<matplotlib.figure.Figure at 0x7f32809879d0>"
      ]
     },
     "metadata": {},
     "output_type": "display_data"
    }
   ],
   "source": [
    "mix = MakeMixture(metapmf)\n",
    "thinkplot.Hist(mix)\n",
    "print('P(hitting exactly 3):',mix[3])"
   ]
  },
  {
   "cell_type": "markdown",
   "metadata": {},
   "source": [
    "## Original Bayes problem!\n",
    "### The Most Dangerous Corn Maze\n",
    "\n",
    "(I didn't come up with this scenario: it is a game invented last year by two other students, Nur and Evan, modified into a potential Bayes problem)\n",
    "\n",
    "You and your nemesis are embroiled in a duel to the death, in a rather unconventional scenario: you find yourselves in a very dark corn maze, each armed with a powerful and accurate single-shot rifle. You quickly discover (with your uncanny intuition) that this is no normal corn maze; it is, rather, a 5x5 grid of isolated looping space, in which each edge of the maze's grid leads to the corresponding space on the opposite edge. No space is bounded by more than two walls.\n",
    "\n",
    "It's nearly pitch black, and you operate mostly by touch and sound. You are aware of the arrangement of walls immediately around you, but no further. You alternate moves with your opponent, each time learning the arrangement of walls in your new space; however, both you and your opponent have inhumanly good hearing, and can determine the same information (direction moved, new arrangement of walls) from the quality of the sound echoing through the maze.\n",
    "\n",
    "Your gun is powerful, and you know that you can end this deadly, deliberate dance in a single shot, preferably before you suffer the same fate at the hands of your nemesis. However, if you fire and miss, you will have to take a precious moment to reload, and due to the nature of the local space, you always run the risk of accidentally shooting yourself in the back. Fortunately, the bullets don't seem to pass through the walls, so you might get a second chance.\n",
    "\n",
    "1. A few turns are taken. Where is your opponent? Can you find the most likely places to shoot, before your opponent gets off a lucky shot?\n",
    "\n",
    "2. You find yourself in a new maze, of size NxN, where N is somewhere between 3 and 10. The same rules apply.\n",
    "\n",
    "3. You and your opponent discover a way to move more quietly, without giving the other direction information. You still know the new arrangement of walls. How does this affect your estimates?"
   ]
  },
  {
   "cell_type": "markdown",
   "metadata": {},
   "source": [
    "A blank starting grid:\n",
    "\n",
    "┌───┬───┬───┬───┬───┐\n",
    "\n",
    "\n",
    "├───┼───┼───┼───┼───┤\n",
    "\n",
    "\n",
    "├───┼───┼───┼───┼───┤\n",
    "\n",
    "\n",
    "├───┼───┼───┼───┼───┤\n",
    "\n",
    "\n",
    "├───┼───┼───┼───┼───┤\n",
    "\n",
    "\n",
    "\n",
    "└───┴───┴───┴───┴───┘"
   ]
  },
  {
   "cell_type": "code",
   "execution_count": 148,
   "metadata": {
    "collapsed": true
   },
   "outputs": [],
   "source": [
    "class CornMaze(Suite, Joint):\n",
    "    \n",
    "    def __init__(self,xs,ys):\n",
    "        \"\"\"Makes a joint suite of parameters x, y\n",
    "\n",
    "        Enumerates all combinations of x, y\n",
    "\n",
    "        x: horizontal grid positions\n",
    "        y: vertical grid positions\n",
    "        \"\"\"\n",
    "        \n",
    "        coordinates = product(xs,ys)\n",
    "        self.spaces = np.empty((5,5),dtype=list)\n",
    "        Suite.__init__(self, coordinates)\n",
    "        \n",
    "    \n",
    "    def Likelihood(self, data, hypos):\n",
    "        \"\"\"computes likelihood of data (w1,w2,w3,w4) given \n",
    "        hypo (x, y)\"\"\"\n",
    "        w1,w2,w3,w4 = data\n",
    "        x,y = hypos\n",
    "        \n",
    "        # if a space is known and the walls don't match\n",
    "        if self.spaces[x,y] != [w1,w2,w3,w4]:\n",
    "            like = 0\n",
    "        \n",
    "        # the input data also updates known or probable information about\n",
    "        # surrounding squares, possibly different update function for\n",
    "        # your moves? Will also affect probabilities for the other walls\n",
    "        # of surrounding squares, due to 2 wall maximum. The wall lists\n",
    "        # in the spaces array need to be probabilistic too, which affects\n",
    "        # likely position in the maze for a given configuration. Needs\n",
    "        # to take into account prior positions. Each update then updates\n",
    "        # both the two dimensional distribution of possible current\n",
    "        # opponent positions and the probabilistic configuration of the\n",
    "        # maze...would probably need to overload a lot more functions\n",
    "        # in the class.\n",
    "        \n",
    "        return like"
   ]
  },
  {
   "cell_type": "markdown",
   "metadata": {},
   "source": [
    "So it turns out, I suppose unsurprisingly, that this is a really hard problem. It was a very hard game to play, and though I simplified things somewhat for the problem, it's still kind of overwhelming. I think with further simplification it could work, though. Probably best in any case to work up from the simplest case (known maze of known size), but that's not a particularly interesting problem on its own."
   ]
  },
  {
   "cell_type": "markdown",
   "metadata": {},
   "source": [
    "I'm not favoring finishing this particular problem for the final project, but I seem to be stuck on spatial probability density maps; my current idea is to start with an alien abduction dropping you in a random location (but this time on Earth, not hyperdimensional corn maze space) and using some limited information (approximate temperature, trees or not, mountains within eyesight, maybe a street name) generate a probability density map of where in the world you might be. The more irrelevant-seeming the data, the better."
   ]
  },
  {
   "cell_type": "code",
   "execution_count": null,
   "metadata": {
    "collapsed": true
   },
   "outputs": [],
   "source": []
  }
 ],
 "metadata": {
  "kernelspec": {
   "display_name": "Python 2",
   "language": "python",
   "name": "python2"
  },
  "language_info": {
   "codemirror_mode": {
    "name": "ipython",
    "version": 2
   },
   "file_extension": ".py",
   "mimetype": "text/x-python",
   "name": "python",
   "nbconvert_exporter": "python",
   "pygments_lexer": "ipython2",
   "version": "2.7.6"
  }
 },
 "nbformat": 4,
 "nbformat_minor": 0
}
