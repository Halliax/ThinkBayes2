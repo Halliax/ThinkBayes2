{
 "cells": [
  {
   "cell_type": "markdown",
   "metadata": {},
   "source": [
    "# Report 2: Computational Bayesian Statistics\n",
    "## Taylor Sheneman"
   ]
  },
  {
   "cell_type": "code",
   "execution_count": 1,
   "metadata": {
    "collapsed": true
   },
   "outputs": [],
   "source": [
    "from __future__ import print_function, division\n",
    "\n",
    "import numpy as np\n",
    "import random\n",
    "\n",
    "import thinkbayes2\n",
    "from thinkbayes2 import Pmf, Cdf, Suite, MakeBinomialPmf\n",
    "import thinkplot\n",
    "\n",
    "% matplotlib inline"
   ]
  },
  {
   "cell_type": "markdown",
   "metadata": {},
   "source": [
    "## Problems from Think Bayes Chapter 4 and 5 Notes\n",
    "\n",
    "Worked problems from Allen Downey's Think Bayes supplementary materials."
   ]
  },
  {
   "cell_type": "code",
   "execution_count": 2,
   "metadata": {
    "collapsed": true
   },
   "outputs": [],
   "source": [
    "from scipy import special\n",
    "\n",
    "class Beta:\n",
    "    \"\"\"Represents a Beta distribution.\n",
    "\n",
    "    See http://en.wikipedia.org/wiki/Beta_distribution\n",
    "    \"\"\"\n",
    "    def __init__(self, alpha=1, beta=1, label=None):\n",
    "        \"\"\"Initializes a Beta distribution.\"\"\"\n",
    "        self.alpha = alpha\n",
    "        self.beta = beta\n",
    "        self.label = label if label is not None else '_nolegend_'\n",
    "\n",
    "    def Update(self, data):\n",
    "        \"\"\"Updates a Beta distribution.\n",
    "\n",
    "        data: pair of int (heads, tails)\n",
    "        \"\"\"\n",
    "        heads, tails = data\n",
    "        self.alpha += heads\n",
    "        self.beta += tails\n",
    "\n",
    "    def Mean(self):\n",
    "        \"\"\"Computes the mean of this distribution.\"\"\"\n",
    "        return self.alpha / (self.alpha + self.beta)\n",
    "\n",
    "    def MAP(self):\n",
    "        \"\"\"Computes the value with maximum a posteori probability.\"\"\"\n",
    "        a = self.alpha - 1\n",
    "        b = self.beta - 1\n",
    "        return a / (a + b)\n",
    "\n",
    "    def Random(self):\n",
    "        \"\"\"Generates a random variate from this distribution.\"\"\"\n",
    "        return random.betavariate(self.alpha, self.beta)\n",
    "\n",
    "    def Sample(self, n):\n",
    "        \"\"\"Generates a random sample from this distribution.\n",
    "\n",
    "        n: int sample size\n",
    "        \"\"\"\n",
    "        size = n,\n",
    "        return np.random.beta(self.alpha, self.beta, size)\n",
    "\n",
    "    def EvalPdf(self, x):\n",
    "        \"\"\"Evaluates the PDF at x.\"\"\"\n",
    "        return x ** (self.alpha - 1) * (1 - x) ** (self.beta - 1)\n",
    "\n",
    "    def MakePmf(self, steps=101, label=None):\n",
    "        \"\"\"Returns a Pmf of this distribution.\n",
    "\n",
    "        Note: Normally, we just evaluate the PDF at a sequence\n",
    "        of points and treat the probability density as a probability\n",
    "        mass.\n",
    "\n",
    "        But if alpha or beta is less than one, we have to be\n",
    "        more careful because the PDF goes to infinity at x=0\n",
    "        and x=1.  In that case we evaluate the CDF and compute\n",
    "        differences.\n",
    "\n",
    "        The result is a little funny, because the values at 0 and 1\n",
    "        are not symmetric.  Nevertheless, it is a reasonable discrete\n",
    "        model of the continuous distribution, and behaves well as\n",
    "        the number of values increases.\n",
    "        \"\"\"\n",
    "        if label is None and self.label is not None:\n",
    "            label = self.label\n",
    "\n",
    "        if self.alpha < 1 or self.beta < 1:\n",
    "            cdf = self.MakeCdf()\n",
    "            pmf = cdf.MakePmf()\n",
    "            return pmf\n",
    "\n",
    "        xs = [i / (steps - 1) for i in range(steps)]\n",
    "        probs = [self.EvalPdf(x) for x in xs]\n",
    "        pmf = Pmf(dict(zip(xs, probs)), label=label)\n",
    "        return pmf\n",
    "\n",
    "    def MakeCdf(self, steps=101):\n",
    "        \"\"\"Returns the CDF of this distribution.\"\"\"\n",
    "        xs = [i / (steps - 1) for i in range(steps)]\n",
    "        ps = special.betainc(self.alpha, self.beta, xs)\n",
    "        cdf = Cdf(xs, ps)\n",
    "        return cdf\n",
    "\n",
    "    def Percentile(self, ps):\n",
    "        \"\"\"Returns the given percentiles from this distribution.\n",
    "\n",
    "        ps: scalar, array, or list of [0-100]\n",
    "        \"\"\"\n",
    "        ps = np.asarray(ps) / 100\n",
    "        xs = special.betaincinv(self.alpha, self.beta, ps)\n",
    "        return xs\n"
   ]
  },
  {
   "cell_type": "markdown",
   "metadata": {},
   "source": [
    "### Euro Problem (with Beta distributions!)\n",
    "\n",
    "One way to construct priors is to make a Beta distribution and adjust the parameters until it has the shape you want.  Then when you do an update, the data get added to the parameters of the prior.  Since the parameters of the prior play the same mathematical role as the data, they are sometimes called \"precounts\".\n",
    "\n",
    "Suppose you believe that most coins are fair or unlikely to deviate from 50% by more than a few percentage points.  Construct a prior that captures this belief and update it with the Euro data.  How much effect does it have on the posterior, compared to the uniform prior?\n",
    "\n",
    "Hint: A Beta distribution with parameters `(1, 1)` is uniform from 0 to 1."
   ]
  },
  {
   "cell_type": "code",
   "execution_count": 3,
   "metadata": {
    "collapsed": false
   },
   "outputs": [
    {
     "name": "stdout",
     "output_type": "stream",
     "text": [
      "uniform prior posterior mean: 0.559523809524\n",
      "beta(50,50) prior posterior mean: 0.542857142857\n",
      "beta(100,100) prior posterior mean: 0.533333333333\n"
     ]
    },
    {
     "data": {
      "image/png": "[encoded data removed]",
      "text/plain": [
       "<matplotlib.figure.Figure at 0x7fae385c19d0>"
      ]
     },
     "metadata": {},
     "output_type": "display_data"
    }
   ],
   "source": [
    "beta = Beta()\n",
    "beta.Update((140, 110))\n",
    "print(\"uniform prior posterior mean:\",beta.Mean())\n",
    "\n",
    "beta2 = Beta(50,50)\n",
    "beta2.Update((140, 110))\n",
    "print(\"beta(50,50) prior posterior mean:\",beta2.Mean())\n",
    "\n",
    "beta3 = Beta(100,100)\n",
    "beta3.Update((140, 110))\n",
    "print(\"beta(100,100) prior posterior mean:\",beta3.Mean())\n",
    "\n",
    "thinkplot.Pdf(beta.MakePmf())\n",
    "thinkplot.Pdf(beta2.MakePmf())\n",
    "thinkplot.Pdf(beta3.MakePmf())"
   ]
  },
  {
   "cell_type": "markdown",
   "metadata": {},
   "source": [
    "The stronger the belief reflected in the prior, the higher the \"precount\" values, and the less readily the distribution is modified by data. The beta(100,100) posterior is only a couple percentage points different from the result of a uniform prior when updated with 250 points, though."
   ]
  },
  {
   "cell_type": "markdown",
   "metadata": {},
   "source": [
    "### Kim Rhode problem\n",
    "\n",
    "At the 2016 Summer Olympics in the Women's Skeet event, Kim Rhode faced Wei Meng in the bronze medal match.  They each hit 15 of 25 skeets, sending the match into sudden death.  In the first round, both hit 1 of 2 skeets.  In the next two rounds, they each hit 2 skeets.  Finally, in the fourth round, Rhode hit 2 and Wei hit 1, so Rhode won the bronze medal, making her the first Summer Olympian to win an individual medal at six consecutive summer games.\n",
    "\n",
    "But after all that shooting, what is the probability that Rhode is actually a better shooter than Wei?  If the same match were held again, what is the probability that Rhode would win?\n",
    "\n",
    "As always, you will have to make some modeling decisions, but one approach is to estimate, for each shooter, the probability of hitting a skeet.  Then, to estimate the probability that Rhode is a better shooter, you can draw samples from the two posterior distributions and compare them.  To estimate the probability of winning a rematch, you could draw samples from the posterior distributions and simulate a round of 25 shots."
   ]
  },
  {
   "cell_type": "code",
   "execution_count": 4,
   "metadata": {
    "collapsed": false
   },
   "outputs": [
    {
     "name": "stdout",
     "output_type": "stream",
     "text": [
      "Kim Rhode (uniform prior) posterior mean: 0.657142857143\n",
      "Wei Meng (uniform prior) posterior mean: 0.628571428571\n"
     ]
    },
    {
     "data": {
      "image/png": "[encoded data removed]",
      "text/plain": [
       "<matplotlib.figure.Figure at 0x7fae380fe390>"
      ]
     },
     "metadata": {},
     "output_type": "display_data"
    }
   ],
   "source": [
    "rhode_beta = Beta()\n",
    "rhode_beta.Update((15,10))\n",
    "rhode_beta.Update((1,1))\n",
    "rhode_beta.Update((2,0))\n",
    "rhode_beta.Update((2,0))\n",
    "rhode_beta.Update((2,0))\n",
    "print(\"Kim Rhode (uniform prior) posterior mean:\",rhode_beta.Mean())\n",
    "\n",
    "wei_beta = Beta()\n",
    "wei_beta.Update((21,12))\n",
    "print(\"Wei Meng (uniform prior) posterior mean:\",wei_beta.Mean())\n",
    "\n",
    "thinkplot.Pdf(rhode_beta.MakePmf())\n",
    "thinkplot.Pdf(wei_beta.MakePmf())"
   ]
  },
  {
   "cell_type": "code",
   "execution_count": 5,
   "metadata": {
    "collapsed": false
   },
   "outputs": [
    {
     "name": "stdout",
     "output_type": "stream",
     "text": [
      "Kim Rhode (beta(3,2) prior) posterior mean: 0.657894736842\n",
      "Wei Meng (beta(3,2) prior) posterior mean: 0.631578947368\n"
     ]
    },
    {
     "data": {
      "image/png": "[encoded data removed]",
      "text/plain": [
       "<matplotlib.figure.Figure at 0x7fae37ea6290>"
      ]
     },
     "metadata": {},
     "output_type": "display_data"
    }
   ],
   "source": [
    "rhode_beta2 = Beta(3,2)\n",
    "rhode_beta2.Update((22,11))\n",
    "print(\"Kim Rhode (beta(3,2) prior) posterior mean:\",rhode_beta2.Mean())\n",
    "\n",
    "wei_beta2 = Beta(3,2)\n",
    "wei_beta2.Update((21,12))\n",
    "print(\"Wei Meng (beta(3,2) prior) posterior mean:\",wei_beta2.Mean())\n",
    "\n",
    "thinkplot.Pdf(rhode_beta2.MakePmf())\n",
    "thinkplot.Pdf(wei_beta2.MakePmf())"
   ]
  },
  {
   "cell_type": "markdown",
   "metadata": {},
   "source": [
    "When the prior is beta(3,2) instead of uniform, the model gives a lower difference in predicted success rate between the two shooters."
   ]
  },
  {
   "cell_type": "code",
   "execution_count": 6,
   "metadata": {
    "collapsed": false
   },
   "outputs": [
    {
     "name": "stdout",
     "output_type": "stream",
     "text": [
      "0.588\n"
     ]
    }
   ],
   "source": [
    "num_samples = 5000\n",
    "total = 0\n",
    "\n",
    "for i in range(num_samples):\n",
    "    r = rhode_beta2.Random()\n",
    "    w = wei_beta2.Random()\n",
    "    if r > w:\n",
    "        total += 1\n",
    "\n",
    "print(total/num_samples)"
   ]
  },
  {
   "cell_type": "markdown",
   "metadata": {},
   "source": [
    "In 5000 random draws, Kim Rhode's score is higher than Wei Meng's around 59% of the time.\n",
    "\n",
    "A simulated match:"
   ]
  },
  {
   "cell_type": "code",
   "execution_count": 7,
   "metadata": {
    "collapsed": false
   },
   "outputs": [
    {
     "name": "stdout",
     "output_type": "stream",
     "text": [
      "17 17\n"
     ]
    }
   ],
   "source": [
    "num_shots = 25\n",
    "total_r = 0\n",
    "total_w = 0\n",
    "\n",
    "r = rhode_beta2.Random()\n",
    "w = wei_beta2.Random()\n",
    "\n",
    "for i in range(num_shots):\n",
    "    if random.random() < r:\n",
    "        total_r += 1\n",
    "    if random.random() < w:\n",
    "        total_w += 1\n",
    "\n",
    "print(total_r,total_w)"
   ]
  },
  {
   "cell_type": "markdown",
   "metadata": {},
   "source": [
    "A simulated 5000 matches, with percentages of wins, losses and ties."
   ]
  },
  {
   "cell_type": "code",
   "execution_count": 8,
   "metadata": {
    "collapsed": false
   },
   "outputs": [
    {
     "name": "stdout",
     "output_type": "stream",
     "text": [
      "Win %: 0.507\n",
      "Loss %: 0.4012\n",
      "Tie %: 0.0918\n"
     ]
    }
   ],
   "source": [
    "matches = 5000\n",
    "shots = 25\n",
    "total_wins = 0\n",
    "total_losses = 0\n",
    "total_ties = 0\n",
    "\n",
    "for i in range(matches):\n",
    "    total_r = 0\n",
    "    total_w = 0\n",
    "\n",
    "    r = rhode_beta2.Random()\n",
    "    w = wei_beta2.Random()\n",
    "\n",
    "    for j in range(shots):\n",
    "        if random.random() < r:\n",
    "            total_r += 1\n",
    "        if random.random() < w:\n",
    "            total_w += 1\n",
    "\n",
    "    if total_r > total_w:\n",
    "        total_wins += 1\n",
    "    elif total_r < total_w:\n",
    "        total_losses += 1\n",
    "    else:\n",
    "        total_ties += 1\n",
    "\n",
    "print(\"Win %:\", total_wins/matches)\n",
    "print(\"Loss %:\", total_losses/matches)\n",
    "print(\"Tie %:\", total_ties/matches)"
   ]
  },
  {
   "cell_type": "markdown",
   "metadata": {},
   "source": [
    "Kim Rhode seems to win around 51% and lose around 39% of the time in 5000 simulated matches of 25 shots. Of course, the 8 or 9% tie rate would translate into longer matches until the tie is broken, but that would require some tricky conditionals and probably work out to around the same win:loss rate."
   ]
  },
  {
   "cell_type": "markdown",
   "metadata": {},
   "source": [
    "### Euro Problem (with bad measurements!)\n",
    "\n",
    "Suppose that instead of observing coin tosses directly, you measure the outcome using an instrument that is not always correct. Specifically, suppose there is a probability `y` that an actual heads is reported as tails, or actual tails reported as heads.\n",
    "\n",
    "Write a class that estimates the bias of a coin given a series of outcomes and the value of `y`.\n",
    "\n",
    "How does the spread of the posterior distribution depend on `y`?"
   ]
  },
  {
   "cell_type": "markdown",
   "metadata": {},
   "source": [
    "(Not sure I actually need a class here. A function works on its own.)"
   ]
  },
  {
   "cell_type": "code",
   "execution_count": 9,
   "metadata": {
    "collapsed": false
   },
   "outputs": [
    {
     "name": "stdout",
     "output_type": "stream",
     "text": [
      "post mean w/ p(incorrect reading) 0 : 0.55859375\n",
      "post mean w/ p(incorrect reading) 0.25 : 0.529296875\n",
      "post mean w/ p(incorrect reading) 0.5 : 0.5\n",
      "post mean w/ p(incorrect reading) 0.75 : 0.470703125\n",
      "post mean w/ p(incorrect reading) 1 : 0.44140625\n"
     ]
    },
    {
     "data": {
      "image/png": "[encoded data removed]",
      "text/plain": [
       "<matplotlib.figure.Figure at 0x7fae380f1450>"
      ]
     },
     "metadata": {},
     "output_type": "display_data"
    }
   ],
   "source": [
    "def estimate_bias(heads,tails,y):\n",
    "    \"\"\"Given number of heads and tails flipped, and the probability\n",
    "    of an incorrect measurement y, returns the mean of a distribution\n",
    "    of the coin's probable bias.\"\"\"\n",
    "    beta = Beta(3,3)\n",
    "    beta.Update((heads + (tails-heads)*y, tails + (heads-tails)*y))\n",
    "    thinkplot.Pdf(beta.MakePmf())\n",
    "    return beta.Mean()\n",
    "\n",
    "print(\"post mean w/ p(incorrect reading)\",0,\":\",\n",
    "      estimate_bias(140,110,0))\n",
    "print(\"post mean w/ p(incorrect reading)\",0.25,\":\",\n",
    "      estimate_bias(140,110,0.25))\n",
    "print(\"post mean w/ p(incorrect reading)\",0.5,\":\",\n",
    "      estimate_bias(140,110,0.5))\n",
    "print(\"post mean w/ p(incorrect reading)\",0.75,\":\",\n",
    "      estimate_bias(140,110,0.75))\n",
    "print(\"post mean w/ p(incorrect reading)\",1,\":\",\n",
    "      estimate_bias(140,110,1))"
   ]
  },
  {
   "cell_type": "markdown",
   "metadata": {},
   "source": [
    "Interesting note: when the probability of an incorrect measurement is 50%, you can no longer learn anything about the coin's bias from using it."
   ]
  },
  {
   "cell_type": "markdown",
   "metadata": {},
   "source": [
    "### Cat Party Problem\n",
    "\n",
    "Suppose you are having a dinner party with 10 guests and 4 of them are allergic to cats.  Because you have cats, you expect 50% of the allergic guests to sneeze during dinner.  At the same time, you expect 10% of the non-allergic guests to sneeze.  What is the distribution of the total number of guests who sneeze?"
   ]
  },
  {
   "cell_type": "code",
   "execution_count": 10,
   "metadata": {
    "collapsed": false
   },
   "outputs": [
    {
     "data": {
      "image/png": "[encoded data removed]",
      "text/plain": [
       "<matplotlib.figure.Figure at 0x7fae385c1810>"
      ]
     },
     "metadata": {},
     "output_type": "display_data"
    }
   ],
   "source": [
    "allergic = MakeBinomialPmf(n=4, p=0.5)\n",
    "nonallergic = MakeBinomialPmf(n=6, p=0.1)\n",
    "\n",
    "total_pmf = Pmf()\n",
    "for v1, p1 in allergic.Items():\n",
    "    for v2, p2 in nonallergic.Items():\n",
    "        total_pmf[v1 + v2] += p1 * p2\n",
    "\n",
    "\n",
    "thinkplot.Pdf(total_pmf)"
   ]
  },
  {
   "cell_type": "markdown",
   "metadata": {},
   "source": [
    "### Chess Problem\n",
    "\n",
    "Two identical twins are members of my chess club, but they never show up on the same day; in fact, they strictly alternate the days they show up.  I can't tell them apart except that one is a better player than the other:  Avery beats me 60% of the time and I beat Blake 70% of the time.  If I play one twin on Monday and win, and the other twin on Tuesday and lose, which twin did I play on which day?"
   ]
  },
  {
   "cell_type": "code",
   "execution_count": 13,
   "metadata": {
    "collapsed": false
   },
   "outputs": [
    {
     "name": "stdout",
     "output_type": "stream",
     "text": [
      "hypoAB 0.222222222222\n",
      "hypoBA 0.777777777778\n"
     ]
    }
   ],
   "source": [
    "chess = Pmf(['hypoAB', 'hypoBA'])\n",
    "chess['hypoAB'] *= .4\n",
    "chess['hypoBA'] *= .7\n",
    "chess['hypoAB'] *= .3\n",
    "chess['hypoBA'] *= .6\n",
    "chess.Normalize()\n",
    "chess.Print()"
   ]
  },
  {
   "cell_type": "markdown",
   "metadata": {},
   "source": [
    "## Another Bayes Problem\n",
    "\n",
    "### Snowy Winter Problem\n",
    "\n",
    "The winter of 2014-2015 is sometimes referred to as the \"snowpocalypse\", due to record snowfall numbers in much of the country, particularly the East Coast. The snow here in Boston attracted a particularly large amount of media attention (as far as I remember, as a Chicagoan). The snow was definitely unusual, but was it an unusually cold winter? As it turns out, in December 2014-February 2015, there were 35 days that never reached freezing temperature (from below), compared to the previous year, in which there were 37 such days in the same period. What is the probability that this happened due to an actual overall temperature shift, rather than random variation?"
   ]
  },
  {
   "cell_type": "code",
   "execution_count": 22,
   "metadata": {
    "collapsed": true
   },
   "outputs": [],
   "source": [
    "def ProbGreater(pmf1, pmf2):\n",
    "    \"\"\"Enumerates all possible combinations of entries from pmf1 and\n",
    "    pmf2 and totals the probabilities of the ones that result in a\n",
    "    greater entry from pmf1. Taken straight from the notes.\"\"\"\n",
    "    total = 0\n",
    "    for x1, prob1 in pmf1.Items():\n",
    "        for x2, prob2 in pmf2.Items():\n",
    "            if x1 > x2:\n",
    "                total += prob1 * prob2\n",
    "    return total\n",
    "\n",
    "def ProbLess(pmf1, pmf2):\n",
    "    \"\"\"Same as above, except less.\"\"\"\n",
    "    total = 0\n",
    "    for x1, prob1 in pmf1.Items():\n",
    "        for x2, prob2 in pmf2.Items():\n",
    "            if x1 < x2:\n",
    "                total += prob1 * prob2\n",
    "    return total"
   ]
  },
  {
   "cell_type": "code",
   "execution_count": 20,
   "metadata": {
    "collapsed": false
   },
   "outputs": [
    {
     "data": {
      "image/png": "[encoded data removed]",
      "text/plain": [
       "<matplotlib.figure.Figure at 0x7fae37eef990>"
      ]
     },
     "metadata": {},
     "output_type": "display_data"
    }
   ],
   "source": [
    "winter2015 = Beta(2, 2, label='2014-15')\n",
    "winter2015.Update((35, 55))\n",
    "winter2014 = Beta(2, 2, label='2013-14')\n",
    "winter2014.Update((37, 53))\n",
    "\n",
    "thinkplot.Pdf(winter2014.MakePmf())\n",
    "thinkplot.Pdf(winter2015.MakePmf())\n",
    "thinkplot.Config(xlabel='Chance of Freezing Day', ylabel='Probability')"
   ]
  },
  {
   "cell_type": "code",
   "execution_count": 27,
   "metadata": {
    "collapsed": false
   },
   "outputs": [
    {
     "name": "stdout",
     "output_type": "stream",
     "text": [
      "Probability that 2015 is warmer than 2014: 0.614781671115\n"
     ]
    }
   ],
   "source": [
    "pmf1 = winter2015.MakePmf(1001)\n",
    "pmf2 = winter2014.MakePmf(1001)\n",
    "print(\"Probability that 2015 is warmer than 2014:\",ProbLess(pmf1,pmf2))"
   ]
  },
  {
   "cell_type": "markdown",
   "metadata": {},
   "source": [
    "There seems to be some weak evidence that the snowpocalypse was actually warmer than the previous winter.\n",
    "\n",
    "This example is a bit contrived, I know. I worked through a bunch of ideas having to do with temperatures, but I wanted more practice with beta distributions and probability of superiority."
   ]
  }
 ],
 "metadata": {
  "kernelspec": {
   "display_name": "Python 2",
   "language": "python",
   "name": "python2"
  },
  "language_info": {
   "codemirror_mode": {
    "name": "ipython",
    "version": 2
   },
   "file_extension": ".py",
   "mimetype": "text/x-python",
   "name": "python",
   "nbconvert_exporter": "python",
   "pygments_lexer": "ipython2",
   "version": "2.7.6"
  }
 },
 "nbformat": 4,
 "nbformat_minor": 0
}
